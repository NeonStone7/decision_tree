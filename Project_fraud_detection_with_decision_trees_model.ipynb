{
 "cells": [
  {
   "cell_type": "code",
   "execution_count": 1,
   "id": "13051093",
   "metadata": {},
   "outputs": [],
   "source": [
    "import matplotlib.pyplot as plt\n",
    "import warnings\n",
    "\n",
    "import numpy as np\n",
    "import pandas as pd\n",
    "import seaborn as sns\n",
    "import plotly.express as px\n",
    "from sklearn.tree import DecisionTreeClassifier\n",
    "from sklearn.metrics import accuracy_score\n",
    "\n",
    "from sklearn.metrics import confusion_matrix,classification_report\n",
    "from sklearn.model_selection import GridSearchCV,train_test_split\n",
    "from sklearn.model_selection import cross_val_score,cross_val_predict\n",
    "\n",
    "from imblearn.over_sampling import SMOTE\n",
    "from sklearn.feature_selection import RFE\n",
    "\n",
    "\n",
    "warnings.simplefilter(action=\"ignore\")\n"
   ]
  },
  {
   "cell_type": "code",
   "execution_count": null,
   "id": "33d5d259",
   "metadata": {},
   "outputs": [],
   "source": [
    "test=pd.read_csv(\"/Users/USER/Documents/DATASETS/Zindi/electricity_fraud_detection/cleaned_client_test.csv\")\n",
    "train=pd.read_csv(\"/Users/USER/Documents/DATASETS/Zindi/electricity_fraud_detection/cleaned_client_train.csv\")\n"
   ]
  },
  {
   "cell_type": "markdown",
   "id": "d990c68c",
   "metadata": {},
   "source": [
    "### PURE MODEL"
   ]
  },
  {
   "cell_type": "code",
   "execution_count": null,
   "id": "e63bd100",
   "metadata": {},
   "outputs": [],
   "source": [
    "tree=DecisionTreeClassifier(random_state=365)\n",
    "\n",
    "tree.fit(xtrain,ytrain)"
   ]
  },
  {
   "cell_type": "code",
   "execution_count": null,
   "id": "2c8cb102",
   "metadata": {},
   "outputs": [],
   "source": [
    "pure_tree_accuracy=cross_val_score(tree,xtrain,ytrain,scoring='accuracy',cv=3).mean()\n",
    "print('Mean_accuracy_score is',pure_tree_accuracy)"
   ]
  },
  {
   "cell_type": "code",
   "execution_count": null,
   "id": "b236c009",
   "metadata": {},
   "outputs": [],
   "source": [
    "pure_tree_scores=cross_val_predict(tree,xtrain,ytrain,cv=3)"
   ]
  },
  {
   "cell_type": "code",
   "execution_count": null,
   "id": "9e091ae3",
   "metadata": {},
   "outputs": [],
   "source": [
    "sns.heatmap(confusion_matrix(ytrain,pure_tree_scores),annot=True)"
   ]
  },
  {
   "cell_type": "markdown",
   "id": "af0f792f",
   "metadata": {},
   "source": [
    "print(classification_report(ytrain,pure_tree_scores))"
   ]
  },
  {
   "cell_type": "markdown",
   "id": "8c21abe5",
   "metadata": {},
   "source": [
    "### DECISION TREE WITH PRUNING"
   ]
  },
  {
   "cell_type": "code",
   "execution_count": null,
   "id": "11f65707",
   "metadata": {},
   "outputs": [],
   "source": [
    "pruned_tree=DecisionTreeClassifier(random_state=365,ccp_alpha=0.0001)"
   ]
  },
  {
   "cell_type": "code",
   "execution_count": null,
   "id": "bde56d68",
   "metadata": {},
   "outputs": [],
   "source": [
    "pruned_tree.fit(xtrain,ytrain)"
   ]
  },
  {
   "cell_type": "code",
   "execution_count": null,
   "id": "a9f40e1c",
   "metadata": {},
   "outputs": [],
   "source": [
    "pruned_tree_accuracy=cross_val_score(pruned_tree,xtrain,ytrain,scoring='accuracy',cv=3).mean()\n",
    "print('Mean_accuracy_score is',pruned_tree_accuracy)"
   ]
  },
  {
   "cell_type": "code",
   "execution_count": null,
   "id": "3d89c6c1",
   "metadata": {},
   "outputs": [],
   "source": [
    "pruned_tree_scores=cross_val_predict(pruned_tree,xtrain,ytrain,cv=3)"
   ]
  },
  {
   "cell_type": "code",
   "execution_count": null,
   "id": "974708c1",
   "metadata": {},
   "outputs": [],
   "source": [
    "sns.heatmap(confusion_matrix(ytrain,pruned_tree_scores),annot=True)"
   ]
  },
  {
   "cell_type": "markdown",
   "id": "2373512c",
   "metadata": {},
   "source": [
    "### DECISION TREE WITH SMOTE"
   ]
  },
  {
   "cell_type": "code",
   "execution_count": null,
   "id": "42f5928a",
   "metadata": {},
   "outputs": [],
   "source": [
    "smote_tree = DecisionTreeClassifier(random_state=365)"
   ]
  },
  {
   "cell_type": "code",
   "execution_count": null,
   "id": "480aadab",
   "metadata": {},
   "outputs": [],
   "source": [
    "#DEALING WITH IMBALANCE WITH SMOTE\n",
    "\n",
    "from imblearn.over_sampling import SMOTE\n",
    "\n",
    "os=SMOTE(random_state=365)\n",
    "\n",
    "xresampled,yresampled=os.fit_resample(xtrain,ytrain)"
   ]
  },
  {
   "cell_type": "code",
   "execution_count": null,
   "id": "36fa0756",
   "metadata": {},
   "outputs": [],
   "source": [
    "smote_tree.fit(xresampled,yresampled)"
   ]
  },
  {
   "cell_type": "code",
   "execution_count": null,
   "id": "4a9d03f7",
   "metadata": {},
   "outputs": [],
   "source": [
    "smote_tree_accuracy=cross_val_score(smote_tree,xresampled,yresampled,scoring='accuracy',cv=3).mean()\n",
    "print('Mean_accuracy_score is',smote_tree_accuracy)"
   ]
  },
  {
   "cell_type": "code",
   "execution_count": null,
   "id": "dde80c63",
   "metadata": {},
   "outputs": [],
   "source": [
    "smote_tree_scores=cross_val_predict(smote_tree,xresampled,yresampled,cv=3)"
   ]
  },
  {
   "cell_type": "code",
   "execution_count": null,
   "id": "497967b4",
   "metadata": {},
   "outputs": [],
   "source": [
    "sns.heatmap(confusion_matrix(yresampled,smote_tree_scores),annot=True)"
   ]
  },
  {
   "cell_type": "code",
   "execution_count": null,
   "id": "c1f6881f",
   "metadata": {},
   "outputs": [],
   "source": [
    "print(classification_report(yresampled,smote_tree_scores))"
   ]
  },
  {
   "cell_type": "markdown",
   "id": "1c925649",
   "metadata": {},
   "source": [
    "### DECISION TREE WITH SMOTE AND PRUNING "
   ]
  },
  {
   "cell_type": "code",
   "execution_count": null,
   "id": "28ca5ccc",
   "metadata": {},
   "outputs": [],
   "source": [
    "smote_prun_tree = DecisionTreeClassifier(random_state=365,ccp_alpha=0.01)\n",
    "\n",
    "smote_prun_tree.fit(xresampled,yresampled)"
   ]
  },
  {
   "cell_type": "code",
   "execution_count": null,
   "id": "1a13e58c",
   "metadata": {},
   "outputs": [],
   "source": [
    "smote_prun_tree_acc=cross_val_score(smote_prun_tree,xresampled,yresampled,scoring='accuracy',cv=3).mean()\n",
    "print('Mean_accuracy_score is',smote_prun_tree_acc)"
   ]
  },
  {
   "cell_type": "code",
   "execution_count": null,
   "id": "e1f53e6e",
   "metadata": {},
   "outputs": [],
   "source": [
    "smote_prun_tree_scores=cross_val_predict(smote_prun_tree,xresampled,yresampled,cv=3)"
   ]
  },
  {
   "cell_type": "code",
   "execution_count": null,
   "id": "1133b6e9",
   "metadata": {},
   "outputs": [],
   "source": [
    "sns.heatmap(confusion_matrix(yresampled,smote_prun_tree_scores),annot=True)"
   ]
  },
  {
   "cell_type": "code",
   "execution_count": null,
   "id": "646a70ac",
   "metadata": {},
   "outputs": [],
   "source": [
    "print(classification_report(yresampled,smote_prun_tree_scores))"
   ]
  },
  {
   "cell_type": "markdown",
   "id": "ffca52f2",
   "metadata": {},
   "source": [
    "### DECISION TREE WITH RECURSIVE FEATURE ELIMINATION\n"
   ]
  },
  {
   "cell_type": "code",
   "execution_count": null,
   "id": "5608317a",
   "metadata": {},
   "outputs": [],
   "source": [
    "rfe_tree = DecisionTreeClassifier(random_state=365)"
   ]
  },
  {
   "cell_type": "code",
   "execution_count": null,
   "id": "91ebb47e",
   "metadata": {},
   "outputs": [],
   "source": [
    "rfe=RFE(estimator=rfe_tree,n_features_to_select=8)\n",
    "rfe=rfe.fit(xresampled,yresampled.values.ravel())\n",
    "\n",
    "print(rfe.support_)\n",
    "print(rfe.ranking_)\n"
   ]
  },
  {
   "cell_type": "code",
   "execution_count": null,
   "id": "81078b5b",
   "metadata": {},
   "outputs": [],
   "source": []
  },
  {
   "cell_type": "code",
   "execution_count": null,
   "id": "e2d934e7",
   "metadata": {},
   "outputs": [],
   "source": []
  },
  {
   "cell_type": "code",
   "execution_count": null,
   "id": "7e8364b6",
   "metadata": {},
   "outputs": [],
   "source": []
  },
  {
   "cell_type": "code",
   "execution_count": null,
   "id": "705d141c",
   "metadata": {},
   "outputs": [],
   "source": []
  },
  {
   "cell_type": "code",
   "execution_count": null,
   "id": "7a64fd5c",
   "metadata": {},
   "outputs": [],
   "source": []
  },
  {
   "cell_type": "code",
   "execution_count": null,
   "id": "959b9d7f",
   "metadata": {},
   "outputs": [],
   "source": []
  },
  {
   "cell_type": "code",
   "execution_count": null,
   "id": "99bd1674",
   "metadata": {},
   "outputs": [],
   "source": []
  },
  {
   "cell_type": "code",
   "execution_count": null,
   "id": "e49cad80",
   "metadata": {},
   "outputs": [],
   "source": []
  },
  {
   "cell_type": "code",
   "execution_count": null,
   "id": "d7d7b095",
   "metadata": {},
   "outputs": [],
   "source": []
  },
  {
   "cell_type": "code",
   "execution_count": null,
   "id": "a77dce46",
   "metadata": {},
   "outputs": [],
   "source": []
  },
  {
   "cell_type": "code",
   "execution_count": null,
   "id": "46adff59",
   "metadata": {},
   "outputs": [],
   "source": []
  },
  {
   "cell_type": "code",
   "execution_count": null,
   "id": "1c16bcf0",
   "metadata": {},
   "outputs": [],
   "source": []
  },
  {
   "cell_type": "code",
   "execution_count": null,
   "id": "9aa2e6a2",
   "metadata": {},
   "outputs": [],
   "source": []
  },
  {
   "cell_type": "code",
   "execution_count": null,
   "id": "62734784",
   "metadata": {},
   "outputs": [],
   "source": []
  },
  {
   "cell_type": "code",
   "execution_count": null,
   "id": "19d2f138",
   "metadata": {},
   "outputs": [],
   "source": []
  },
  {
   "cell_type": "code",
   "execution_count": null,
   "id": "aa3fa2f7",
   "metadata": {},
   "outputs": [],
   "source": []
  },
  {
   "cell_type": "code",
   "execution_count": null,
   "id": "2512d6db",
   "metadata": {},
   "outputs": [],
   "source": []
  },
  {
   "cell_type": "code",
   "execution_count": null,
   "id": "d01aa2cc",
   "metadata": {},
   "outputs": [],
   "source": []
  },
  {
   "cell_type": "code",
   "execution_count": null,
   "id": "be5df197",
   "metadata": {},
   "outputs": [],
   "source": []
  },
  {
   "cell_type": "code",
   "execution_count": null,
   "id": "c01c729e",
   "metadata": {},
   "outputs": [],
   "source": []
  },
  {
   "cell_type": "code",
   "execution_count": null,
   "id": "e0850a81",
   "metadata": {},
   "outputs": [],
   "source": []
  },
  {
   "cell_type": "code",
   "execution_count": null,
   "id": "6d36e9cc",
   "metadata": {},
   "outputs": [],
   "source": []
  },
  {
   "cell_type": "code",
   "execution_count": null,
   "id": "aa9d065d",
   "metadata": {},
   "outputs": [],
   "source": []
  },
  {
   "cell_type": "code",
   "execution_count": null,
   "id": "f2432677",
   "metadata": {},
   "outputs": [],
   "source": []
  },
  {
   "cell_type": "code",
   "execution_count": null,
   "id": "0063730c",
   "metadata": {},
   "outputs": [],
   "source": []
  },
  {
   "cell_type": "code",
   "execution_count": null,
   "id": "411d8c65",
   "metadata": {},
   "outputs": [],
   "source": []
  },
  {
   "cell_type": "code",
   "execution_count": null,
   "id": "a1890d74",
   "metadata": {},
   "outputs": [],
   "source": []
  },
  {
   "cell_type": "code",
   "execution_count": null,
   "id": "37597979",
   "metadata": {},
   "outputs": [],
   "source": []
  },
  {
   "cell_type": "code",
   "execution_count": null,
   "id": "3fd7473f",
   "metadata": {},
   "outputs": [],
   "source": []
  },
  {
   "cell_type": "code",
   "execution_count": null,
   "id": "40dfb118",
   "metadata": {},
   "outputs": [],
   "source": []
  },
  {
   "cell_type": "code",
   "execution_count": null,
   "id": "b8b4f68e",
   "metadata": {},
   "outputs": [],
   "source": []
  },
  {
   "cell_type": "code",
   "execution_count": null,
   "id": "036b1b12",
   "metadata": {},
   "outputs": [],
   "source": []
  },
  {
   "cell_type": "code",
   "execution_count": null,
   "id": "c6f6765a",
   "metadata": {},
   "outputs": [],
   "source": []
  },
  {
   "cell_type": "code",
   "execution_count": null,
   "id": "62e4015a",
   "metadata": {},
   "outputs": [],
   "source": []
  },
  {
   "cell_type": "code",
   "execution_count": null,
   "id": "7ad5c4ed",
   "metadata": {},
   "outputs": [],
   "source": []
  },
  {
   "cell_type": "code",
   "execution_count": null,
   "id": "6cd2d21c",
   "metadata": {},
   "outputs": [],
   "source": []
  },
  {
   "cell_type": "code",
   "execution_count": null,
   "id": "2ab0dfac",
   "metadata": {},
   "outputs": [],
   "source": []
  },
  {
   "cell_type": "code",
   "execution_count": null,
   "id": "811c9580",
   "metadata": {},
   "outputs": [],
   "source": []
  },
  {
   "cell_type": "code",
   "execution_count": null,
   "id": "0b656d70",
   "metadata": {},
   "outputs": [],
   "source": []
  },
  {
   "cell_type": "code",
   "execution_count": null,
   "id": "64f7ec2f",
   "metadata": {},
   "outputs": [],
   "source": []
  },
  {
   "cell_type": "code",
   "execution_count": null,
   "id": "69e82a38",
   "metadata": {},
   "outputs": [],
   "source": []
  },
  {
   "cell_type": "code",
   "execution_count": null,
   "id": "0b7e850f",
   "metadata": {},
   "outputs": [],
   "source": []
  },
  {
   "cell_type": "code",
   "execution_count": null,
   "id": "f81e8e14",
   "metadata": {},
   "outputs": [],
   "source": []
  },
  {
   "cell_type": "code",
   "execution_count": null,
   "id": "639884d0",
   "metadata": {},
   "outputs": [],
   "source": []
  },
  {
   "cell_type": "code",
   "execution_count": null,
   "id": "7257f99c",
   "metadata": {},
   "outputs": [],
   "source": [
    "\n"
   ]
  }
 ],
 "metadata": {
  "kernelspec": {
   "display_name": "Python 3",
   "language": "python",
   "name": "python3"
  },
  "language_info": {
   "codemirror_mode": {
    "name": "ipython",
    "version": 3
   },
   "file_extension": ".py",
   "mimetype": "text/x-python",
   "name": "python",
   "nbconvert_exporter": "python",
   "pygments_lexer": "ipython3",
   "version": "3.8.8"
  }
 },
 "nbformat": 4,
 "nbformat_minor": 5
}
