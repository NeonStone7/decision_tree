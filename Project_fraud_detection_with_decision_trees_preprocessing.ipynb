{
 "cells": [
  {
   "cell_type": "markdown",
   "id": "1bd6c67b",
   "metadata": {},
   "source": [
    "\n",
    "The Tunisian Company of Electricity and Gas's problem is that it has faced many losses following the fraudulent activities from their customers.\n",
    "\n",
    "The business question is:<br>\n",
    "  - How can we detect fraudulent activities from our customers while still making our services satisfactory and increasing customer traffic?<br>\n",
    "  \n",
    "Our goal is to build an ML model that can learn from the payments of the clients whose payment activities are well known (using past data), so that we can predict which clients are highly likely to commit fraudulent activities."
   ]
  },
  {
   "cell_type": "code",
   "execution_count": 27,
   "id": "ebe118c0",
   "metadata": {},
   "outputs": [],
   "source": [
    "import matplotlib.pyplot as plt\n",
    "import warnings\n",
    "\n",
    "import numpy as np\n",
    "import pandas as pd\n",
    "import seaborn as sns\n",
    "import plotly.express as px\n",
    "from sklearn.tree import DecisionTreeClassifier\n",
    "from sklearn.metrics import accuracy_score\n",
    "\n",
    "from sklearn.metrics import confusion_matrix,classification_report\n",
    "from sklearn.model_selection import GridSearchCV,train_test_split\n",
    "from sklearn.model_selection import cross_val_score,cross_val_predict\n",
    "\n",
    "from imblearn.over_sampling import SMOTE\n",
    "from sklearn.feature_selection import RFE\n",
    "\n",
    "\n",
    "warnings.simplefilter(action=\"ignore\")\n"
   ]
  },
  {
   "cell_type": "code",
   "execution_count": 28,
   "id": "4160dc19",
   "metadata": {},
   "outputs": [],
   "source": [
    "#The low_memory=False function is set as it prevents Pandas from determining which type the dtype of each column is set\n",
    "## which can be very memory demanding.\n",
    "client_test=pd.read_csv(\"/Users/USER/Documents/DATASETS/Zindi/electricity_fraud_detection/client_test.csv\")\n",
    "\n",
    "client_train=pd.read_csv(\"/Users/USER/Documents/DATASETS/Zindi/electricity_fraud_detection/client_train.csv\")\n",
    "\n",
    "invoice_test=pd.read_csv(\"/Users/USER/Documents/DATASETS/Zindi/electricity_fraud_detection/invoice_test.csv\")\n",
    "\n",
    "invoice_train=pd.read_csv(\"/Users/USER/Documents/DATASETS/Zindi/electricity_fraud_detection/invoice_train.csv\")"
   ]
  },
  {
   "cell_type": "code",
   "execution_count": 29,
   "id": "1d4beaca",
   "metadata": {},
   "outputs": [
    {
     "data": {
      "text/plain": [
       "((135493, 6), (58069, 5), (4476749, 16), (1939730, 16))"
      ]
     },
     "execution_count": 29,
     "metadata": {},
     "output_type": "execute_result"
    }
   ],
   "source": [
    "client_train.shape,client_test.shape,invoice_train.shape,invoice_test.shape"
   ]
  },
  {
   "cell_type": "code",
   "execution_count": 30,
   "id": "148f2494",
   "metadata": {},
   "outputs": [
    {
     "data": {
      "text/html": [
       "<div>\n",
       "<style scoped>\n",
       "    .dataframe tbody tr th:only-of-type {\n",
       "        vertical-align: middle;\n",
       "    }\n",
       "\n",
       "    .dataframe tbody tr th {\n",
       "        vertical-align: top;\n",
       "    }\n",
       "\n",
       "    .dataframe thead th {\n",
       "        text-align: right;\n",
       "    }\n",
       "</style>\n",
       "<table border=\"1\" class=\"dataframe\">\n",
       "  <thead>\n",
       "    <tr style=\"text-align: right;\">\n",
       "      <th></th>\n",
       "      <th>disrict</th>\n",
       "      <th>client_id</th>\n",
       "      <th>client_catg</th>\n",
       "      <th>region</th>\n",
       "      <th>creation_date</th>\n",
       "      <th>target</th>\n",
       "    </tr>\n",
       "  </thead>\n",
       "  <tbody>\n",
       "    <tr>\n",
       "      <th>0</th>\n",
       "      <td>60</td>\n",
       "      <td>train_Client_0</td>\n",
       "      <td>11</td>\n",
       "      <td>101</td>\n",
       "      <td>31/12/1994</td>\n",
       "      <td>0.0</td>\n",
       "    </tr>\n",
       "    <tr>\n",
       "      <th>1</th>\n",
       "      <td>69</td>\n",
       "      <td>train_Client_1</td>\n",
       "      <td>11</td>\n",
       "      <td>107</td>\n",
       "      <td>29/05/2002</td>\n",
       "      <td>0.0</td>\n",
       "    </tr>\n",
       "    <tr>\n",
       "      <th>2</th>\n",
       "      <td>62</td>\n",
       "      <td>train_Client_10</td>\n",
       "      <td>11</td>\n",
       "      <td>301</td>\n",
       "      <td>13/03/1986</td>\n",
       "      <td>0.0</td>\n",
       "    </tr>\n",
       "    <tr>\n",
       "      <th>3</th>\n",
       "      <td>69</td>\n",
       "      <td>train_Client_100</td>\n",
       "      <td>11</td>\n",
       "      <td>105</td>\n",
       "      <td>11/07/1996</td>\n",
       "      <td>0.0</td>\n",
       "    </tr>\n",
       "    <tr>\n",
       "      <th>4</th>\n",
       "      <td>62</td>\n",
       "      <td>train_Client_1000</td>\n",
       "      <td>11</td>\n",
       "      <td>303</td>\n",
       "      <td>14/10/2014</td>\n",
       "      <td>0.0</td>\n",
       "    </tr>\n",
       "  </tbody>\n",
       "</table>\n",
       "</div>"
      ],
      "text/plain": [
       "   disrict          client_id  client_catg  region creation_date  target\n",
       "0       60     train_Client_0           11     101    31/12/1994     0.0\n",
       "1       69     train_Client_1           11     107    29/05/2002     0.0\n",
       "2       62    train_Client_10           11     301    13/03/1986     0.0\n",
       "3       69   train_Client_100           11     105    11/07/1996     0.0\n",
       "4       62  train_Client_1000           11     303    14/10/2014     0.0"
      ]
     },
     "execution_count": 30,
     "metadata": {},
     "output_type": "execute_result"
    }
   ],
   "source": [
    "client_train.head()"
   ]
  },
  {
   "cell_type": "code",
   "execution_count": 31,
   "id": "0ced899b",
   "metadata": {},
   "outputs": [
    {
     "data": {
      "text/html": [
       "<div>\n",
       "<style scoped>\n",
       "    .dataframe tbody tr th:only-of-type {\n",
       "        vertical-align: middle;\n",
       "    }\n",
       "\n",
       "    .dataframe tbody tr th {\n",
       "        vertical-align: top;\n",
       "    }\n",
       "\n",
       "    .dataframe thead th {\n",
       "        text-align: right;\n",
       "    }\n",
       "</style>\n",
       "<table border=\"1\" class=\"dataframe\">\n",
       "  <thead>\n",
       "    <tr style=\"text-align: right;\">\n",
       "      <th></th>\n",
       "      <th>client_id</th>\n",
       "      <th>invoice_date</th>\n",
       "      <th>tarif_type</th>\n",
       "      <th>counter_number</th>\n",
       "      <th>counter_statue</th>\n",
       "      <th>counter_code</th>\n",
       "      <th>reading_remarque</th>\n",
       "      <th>counter_coefficient</th>\n",
       "      <th>consommation_level_1</th>\n",
       "      <th>consommation_level_2</th>\n",
       "      <th>consommation_level_3</th>\n",
       "      <th>consommation_level_4</th>\n",
       "      <th>old_index</th>\n",
       "      <th>new_index</th>\n",
       "      <th>months_number</th>\n",
       "      <th>counter_type</th>\n",
       "    </tr>\n",
       "  </thead>\n",
       "  <tbody>\n",
       "    <tr>\n",
       "      <th>0</th>\n",
       "      <td>train_Client_0</td>\n",
       "      <td>2014-03-24</td>\n",
       "      <td>11</td>\n",
       "      <td>1335667</td>\n",
       "      <td>0</td>\n",
       "      <td>203</td>\n",
       "      <td>8</td>\n",
       "      <td>1</td>\n",
       "      <td>82</td>\n",
       "      <td>0</td>\n",
       "      <td>0</td>\n",
       "      <td>0</td>\n",
       "      <td>14302</td>\n",
       "      <td>14384</td>\n",
       "      <td>4</td>\n",
       "      <td>ELEC</td>\n",
       "    </tr>\n",
       "    <tr>\n",
       "      <th>1</th>\n",
       "      <td>train_Client_0</td>\n",
       "      <td>2013-03-29</td>\n",
       "      <td>11</td>\n",
       "      <td>1335667</td>\n",
       "      <td>0</td>\n",
       "      <td>203</td>\n",
       "      <td>6</td>\n",
       "      <td>1</td>\n",
       "      <td>1200</td>\n",
       "      <td>184</td>\n",
       "      <td>0</td>\n",
       "      <td>0</td>\n",
       "      <td>12294</td>\n",
       "      <td>13678</td>\n",
       "      <td>4</td>\n",
       "      <td>ELEC</td>\n",
       "    </tr>\n",
       "    <tr>\n",
       "      <th>2</th>\n",
       "      <td>train_Client_0</td>\n",
       "      <td>2015-03-23</td>\n",
       "      <td>11</td>\n",
       "      <td>1335667</td>\n",
       "      <td>0</td>\n",
       "      <td>203</td>\n",
       "      <td>8</td>\n",
       "      <td>1</td>\n",
       "      <td>123</td>\n",
       "      <td>0</td>\n",
       "      <td>0</td>\n",
       "      <td>0</td>\n",
       "      <td>14624</td>\n",
       "      <td>14747</td>\n",
       "      <td>4</td>\n",
       "      <td>ELEC</td>\n",
       "    </tr>\n",
       "    <tr>\n",
       "      <th>3</th>\n",
       "      <td>train_Client_0</td>\n",
       "      <td>2015-07-13</td>\n",
       "      <td>11</td>\n",
       "      <td>1335667</td>\n",
       "      <td>0</td>\n",
       "      <td>207</td>\n",
       "      <td>8</td>\n",
       "      <td>1</td>\n",
       "      <td>102</td>\n",
       "      <td>0</td>\n",
       "      <td>0</td>\n",
       "      <td>0</td>\n",
       "      <td>14747</td>\n",
       "      <td>14849</td>\n",
       "      <td>4</td>\n",
       "      <td>ELEC</td>\n",
       "    </tr>\n",
       "    <tr>\n",
       "      <th>4</th>\n",
       "      <td>train_Client_0</td>\n",
       "      <td>2016-11-17</td>\n",
       "      <td>11</td>\n",
       "      <td>1335667</td>\n",
       "      <td>0</td>\n",
       "      <td>207</td>\n",
       "      <td>9</td>\n",
       "      <td>1</td>\n",
       "      <td>572</td>\n",
       "      <td>0</td>\n",
       "      <td>0</td>\n",
       "      <td>0</td>\n",
       "      <td>15066</td>\n",
       "      <td>15638</td>\n",
       "      <td>12</td>\n",
       "      <td>ELEC</td>\n",
       "    </tr>\n",
       "  </tbody>\n",
       "</table>\n",
       "</div>"
      ],
      "text/plain": [
       "        client_id invoice_date  tarif_type  counter_number counter_statue  \\\n",
       "0  train_Client_0   2014-03-24          11         1335667              0   \n",
       "1  train_Client_0   2013-03-29          11         1335667              0   \n",
       "2  train_Client_0   2015-03-23          11         1335667              0   \n",
       "3  train_Client_0   2015-07-13          11         1335667              0   \n",
       "4  train_Client_0   2016-11-17          11         1335667              0   \n",
       "\n",
       "   counter_code  reading_remarque  counter_coefficient  consommation_level_1  \\\n",
       "0           203                 8                    1                    82   \n",
       "1           203                 6                    1                  1200   \n",
       "2           203                 8                    1                   123   \n",
       "3           207                 8                    1                   102   \n",
       "4           207                 9                    1                   572   \n",
       "\n",
       "   consommation_level_2  consommation_level_3  consommation_level_4  \\\n",
       "0                     0                     0                     0   \n",
       "1                   184                     0                     0   \n",
       "2                     0                     0                     0   \n",
       "3                     0                     0                     0   \n",
       "4                     0                     0                     0   \n",
       "\n",
       "   old_index  new_index  months_number counter_type  \n",
       "0      14302      14384              4         ELEC  \n",
       "1      12294      13678              4         ELEC  \n",
       "2      14624      14747              4         ELEC  \n",
       "3      14747      14849              4         ELEC  \n",
       "4      15066      15638             12         ELEC  "
      ]
     },
     "execution_count": 31,
     "metadata": {},
     "output_type": "execute_result"
    }
   ],
   "source": [
    "invoice_train.head()"
   ]
  },
  {
   "cell_type": "code",
   "execution_count": 32,
   "id": "c5776b82",
   "metadata": {},
   "outputs": [
    {
     "data": {
      "text/html": [
       "<div>\n",
       "<style scoped>\n",
       "    .dataframe tbody tr th:only-of-type {\n",
       "        vertical-align: middle;\n",
       "    }\n",
       "\n",
       "    .dataframe tbody tr th {\n",
       "        vertical-align: top;\n",
       "    }\n",
       "\n",
       "    .dataframe thead th {\n",
       "        text-align: right;\n",
       "    }\n",
       "</style>\n",
       "<table border=\"1\" class=\"dataframe\">\n",
       "  <thead>\n",
       "    <tr style=\"text-align: right;\">\n",
       "      <th></th>\n",
       "      <th>disrict</th>\n",
       "      <th>client_id</th>\n",
       "      <th>client_catg</th>\n",
       "      <th>region</th>\n",
       "      <th>creation_date</th>\n",
       "      <th>target</th>\n",
       "      <th>invoice_date</th>\n",
       "      <th>tarif_type</th>\n",
       "      <th>counter_number</th>\n",
       "      <th>counter_statue</th>\n",
       "      <th>...</th>\n",
       "      <th>reading_remarque</th>\n",
       "      <th>counter_coefficient</th>\n",
       "      <th>consommation_level_1</th>\n",
       "      <th>consommation_level_2</th>\n",
       "      <th>consommation_level_3</th>\n",
       "      <th>consommation_level_4</th>\n",
       "      <th>old_index</th>\n",
       "      <th>new_index</th>\n",
       "      <th>months_number</th>\n",
       "      <th>counter_type</th>\n",
       "    </tr>\n",
       "  </thead>\n",
       "  <tbody>\n",
       "    <tr>\n",
       "      <th>0</th>\n",
       "      <td>60</td>\n",
       "      <td>train_Client_0</td>\n",
       "      <td>11</td>\n",
       "      <td>101</td>\n",
       "      <td>31/12/1994</td>\n",
       "      <td>0.0</td>\n",
       "      <td>2014-03-24</td>\n",
       "      <td>11</td>\n",
       "      <td>1335667</td>\n",
       "      <td>0</td>\n",
       "      <td>...</td>\n",
       "      <td>8</td>\n",
       "      <td>1</td>\n",
       "      <td>82</td>\n",
       "      <td>0</td>\n",
       "      <td>0</td>\n",
       "      <td>0</td>\n",
       "      <td>14302</td>\n",
       "      <td>14384</td>\n",
       "      <td>4</td>\n",
       "      <td>ELEC</td>\n",
       "    </tr>\n",
       "    <tr>\n",
       "      <th>1</th>\n",
       "      <td>60</td>\n",
       "      <td>train_Client_0</td>\n",
       "      <td>11</td>\n",
       "      <td>101</td>\n",
       "      <td>31/12/1994</td>\n",
       "      <td>0.0</td>\n",
       "      <td>2013-03-29</td>\n",
       "      <td>11</td>\n",
       "      <td>1335667</td>\n",
       "      <td>0</td>\n",
       "      <td>...</td>\n",
       "      <td>6</td>\n",
       "      <td>1</td>\n",
       "      <td>1200</td>\n",
       "      <td>184</td>\n",
       "      <td>0</td>\n",
       "      <td>0</td>\n",
       "      <td>12294</td>\n",
       "      <td>13678</td>\n",
       "      <td>4</td>\n",
       "      <td>ELEC</td>\n",
       "    </tr>\n",
       "    <tr>\n",
       "      <th>2</th>\n",
       "      <td>60</td>\n",
       "      <td>train_Client_0</td>\n",
       "      <td>11</td>\n",
       "      <td>101</td>\n",
       "      <td>31/12/1994</td>\n",
       "      <td>0.0</td>\n",
       "      <td>2015-03-23</td>\n",
       "      <td>11</td>\n",
       "      <td>1335667</td>\n",
       "      <td>0</td>\n",
       "      <td>...</td>\n",
       "      <td>8</td>\n",
       "      <td>1</td>\n",
       "      <td>123</td>\n",
       "      <td>0</td>\n",
       "      <td>0</td>\n",
       "      <td>0</td>\n",
       "      <td>14624</td>\n",
       "      <td>14747</td>\n",
       "      <td>4</td>\n",
       "      <td>ELEC</td>\n",
       "    </tr>\n",
       "    <tr>\n",
       "      <th>3</th>\n",
       "      <td>60</td>\n",
       "      <td>train_Client_0</td>\n",
       "      <td>11</td>\n",
       "      <td>101</td>\n",
       "      <td>31/12/1994</td>\n",
       "      <td>0.0</td>\n",
       "      <td>2015-07-13</td>\n",
       "      <td>11</td>\n",
       "      <td>1335667</td>\n",
       "      <td>0</td>\n",
       "      <td>...</td>\n",
       "      <td>8</td>\n",
       "      <td>1</td>\n",
       "      <td>102</td>\n",
       "      <td>0</td>\n",
       "      <td>0</td>\n",
       "      <td>0</td>\n",
       "      <td>14747</td>\n",
       "      <td>14849</td>\n",
       "      <td>4</td>\n",
       "      <td>ELEC</td>\n",
       "    </tr>\n",
       "    <tr>\n",
       "      <th>4</th>\n",
       "      <td>60</td>\n",
       "      <td>train_Client_0</td>\n",
       "      <td>11</td>\n",
       "      <td>101</td>\n",
       "      <td>31/12/1994</td>\n",
       "      <td>0.0</td>\n",
       "      <td>2016-11-17</td>\n",
       "      <td>11</td>\n",
       "      <td>1335667</td>\n",
       "      <td>0</td>\n",
       "      <td>...</td>\n",
       "      <td>9</td>\n",
       "      <td>1</td>\n",
       "      <td>572</td>\n",
       "      <td>0</td>\n",
       "      <td>0</td>\n",
       "      <td>0</td>\n",
       "      <td>15066</td>\n",
       "      <td>15638</td>\n",
       "      <td>12</td>\n",
       "      <td>ELEC</td>\n",
       "    </tr>\n",
       "  </tbody>\n",
       "</table>\n",
       "<p>5 rows × 21 columns</p>\n",
       "</div>"
      ],
      "text/plain": [
       "   disrict       client_id  client_catg  region creation_date  target  \\\n",
       "0       60  train_Client_0           11     101    31/12/1994     0.0   \n",
       "1       60  train_Client_0           11     101    31/12/1994     0.0   \n",
       "2       60  train_Client_0           11     101    31/12/1994     0.0   \n",
       "3       60  train_Client_0           11     101    31/12/1994     0.0   \n",
       "4       60  train_Client_0           11     101    31/12/1994     0.0   \n",
       "\n",
       "  invoice_date  tarif_type  counter_number counter_statue  ...  \\\n",
       "0   2014-03-24          11         1335667              0  ...   \n",
       "1   2013-03-29          11         1335667              0  ...   \n",
       "2   2015-03-23          11         1335667              0  ...   \n",
       "3   2015-07-13          11         1335667              0  ...   \n",
       "4   2016-11-17          11         1335667              0  ...   \n",
       "\n",
       "   reading_remarque  counter_coefficient  consommation_level_1  \\\n",
       "0                 8                    1                    82   \n",
       "1                 6                    1                  1200   \n",
       "2                 8                    1                   123   \n",
       "3                 8                    1                   102   \n",
       "4                 9                    1                   572   \n",
       "\n",
       "   consommation_level_2  consommation_level_3  consommation_level_4  \\\n",
       "0                     0                     0                     0   \n",
       "1                   184                     0                     0   \n",
       "2                     0                     0                     0   \n",
       "3                     0                     0                     0   \n",
       "4                     0                     0                     0   \n",
       "\n",
       "   old_index  new_index  months_number  counter_type  \n",
       "0      14302      14384              4          ELEC  \n",
       "1      12294      13678              4          ELEC  \n",
       "2      14624      14747              4          ELEC  \n",
       "3      14747      14849              4          ELEC  \n",
       "4      15066      15638             12          ELEC  \n",
       "\n",
       "[5 rows x 21 columns]"
      ]
     },
     "execution_count": 32,
     "metadata": {},
     "output_type": "execute_result"
    }
   ],
   "source": [
    "train=client_train.merge(invoice_train,on='client_id')\n",
    "train.head()"
   ]
  },
  {
   "cell_type": "code",
   "execution_count": 33,
   "id": "931ad2d8",
   "metadata": {},
   "outputs": [
    {
     "name": "stdout",
     "output_type": "stream",
     "text": [
      "<class 'pandas.core.frame.DataFrame'>\n",
      "Int64Index: 4476749 entries, 0 to 4476748\n",
      "Data columns (total 21 columns):\n",
      " #   Column                Dtype  \n",
      "---  ------                -----  \n",
      " 0   disrict               int64  \n",
      " 1   client_id             object \n",
      " 2   client_catg           int64  \n",
      " 3   region                int64  \n",
      " 4   creation_date         object \n",
      " 5   target                float64\n",
      " 6   invoice_date          object \n",
      " 7   tarif_type            int64  \n",
      " 8   counter_number        int64  \n",
      " 9   counter_statue        object \n",
      " 10  counter_code          int64  \n",
      " 11  reading_remarque      int64  \n",
      " 12  counter_coefficient   int64  \n",
      " 13  consommation_level_1  int64  \n",
      " 14  consommation_level_2  int64  \n",
      " 15  consommation_level_3  int64  \n",
      " 16  consommation_level_4  int64  \n",
      " 17  old_index             int64  \n",
      " 18  new_index             int64  \n",
      " 19  months_number         int64  \n",
      " 20  counter_type          object \n",
      "dtypes: float64(1), int64(15), object(5)\n",
      "memory usage: 751.4+ MB\n"
     ]
    }
   ],
   "source": [
    "train.info()"
   ]
  },
  {
   "cell_type": "code",
   "execution_count": 34,
   "id": "95426f22",
   "metadata": {},
   "outputs": [
    {
     "data": {
      "text/plain": [
       "disrict                 0\n",
       "client_id               0\n",
       "client_catg             0\n",
       "region                  0\n",
       "creation_date           0\n",
       "target                  0\n",
       "invoice_date            0\n",
       "tarif_type              0\n",
       "counter_number          0\n",
       "counter_statue          0\n",
       "counter_code            0\n",
       "reading_remarque        0\n",
       "counter_coefficient     0\n",
       "consommation_level_1    0\n",
       "consommation_level_2    0\n",
       "consommation_level_3    0\n",
       "consommation_level_4    0\n",
       "old_index               0\n",
       "new_index               0\n",
       "months_number           0\n",
       "counter_type            0\n",
       "dtype: int64"
      ]
     },
     "execution_count": 34,
     "metadata": {},
     "output_type": "execute_result"
    }
   ],
   "source": [
    "#checking for null values\n",
    "train.isnull().sum()"
   ]
  },
  {
   "cell_type": "code",
   "execution_count": 35,
   "id": "b15f5816",
   "metadata": {},
   "outputs": [
    {
     "data": {
      "text/html": [
       "<div>\n",
       "<style scoped>\n",
       "    .dataframe tbody tr th:only-of-type {\n",
       "        vertical-align: middle;\n",
       "    }\n",
       "\n",
       "    .dataframe tbody tr th {\n",
       "        vertical-align: top;\n",
       "    }\n",
       "\n",
       "    .dataframe thead th {\n",
       "        text-align: right;\n",
       "    }\n",
       "</style>\n",
       "<table border=\"1\" class=\"dataframe\">\n",
       "  <thead>\n",
       "    <tr style=\"text-align: right;\">\n",
       "      <th></th>\n",
       "      <th>disrict</th>\n",
       "      <th>client_id</th>\n",
       "      <th>client_catg</th>\n",
       "      <th>region</th>\n",
       "      <th>creation_date</th>\n",
       "      <th>target</th>\n",
       "      <th>invoice_date</th>\n",
       "      <th>tarif_type</th>\n",
       "      <th>counter_number</th>\n",
       "      <th>counter_statue</th>\n",
       "      <th>...</th>\n",
       "      <th>reading_remarque</th>\n",
       "      <th>counter_coefficient</th>\n",
       "      <th>consommation_level_1</th>\n",
       "      <th>consommation_level_2</th>\n",
       "      <th>consommation_level_3</th>\n",
       "      <th>consommation_level_4</th>\n",
       "      <th>old_index</th>\n",
       "      <th>new_index</th>\n",
       "      <th>months_number</th>\n",
       "      <th>counter_type</th>\n",
       "    </tr>\n",
       "  </thead>\n",
       "  <tbody>\n",
       "    <tr>\n",
       "      <th>951893</th>\n",
       "      <td>60</td>\n",
       "      <td>train_Client_125864</td>\n",
       "      <td>11</td>\n",
       "      <td>101</td>\n",
       "      <td>29/12/1998</td>\n",
       "      <td>0.0</td>\n",
       "      <td>2011-12-12</td>\n",
       "      <td>11</td>\n",
       "      <td>101545</td>\n",
       "      <td>5</td>\n",
       "      <td>...</td>\n",
       "      <td>6</td>\n",
       "      <td>1</td>\n",
       "      <td>0</td>\n",
       "      <td>0</td>\n",
       "      <td>0</td>\n",
       "      <td>0</td>\n",
       "      <td>13680</td>\n",
       "      <td>13680</td>\n",
       "      <td>2</td>\n",
       "      <td>ELEC</td>\n",
       "    </tr>\n",
       "    <tr>\n",
       "      <th>1755798</th>\n",
       "      <td>62</td>\n",
       "      <td>train_Client_25894</td>\n",
       "      <td>11</td>\n",
       "      <td>301</td>\n",
       "      <td>16/06/1995</td>\n",
       "      <td>0.0</td>\n",
       "      <td>2010-07-13</td>\n",
       "      <td>40</td>\n",
       "      <td>6986740</td>\n",
       "      <td>5</td>\n",
       "      <td>...</td>\n",
       "      <td>6</td>\n",
       "      <td>1</td>\n",
       "      <td>0</td>\n",
       "      <td>0</td>\n",
       "      <td>0</td>\n",
       "      <td>0</td>\n",
       "      <td>0</td>\n",
       "      <td>0</td>\n",
       "      <td>2</td>\n",
       "      <td>GAZ</td>\n",
       "    </tr>\n",
       "    <tr>\n",
       "      <th>2137999</th>\n",
       "      <td>60</td>\n",
       "      <td>train_Client_3636</td>\n",
       "      <td>11</td>\n",
       "      <td>101</td>\n",
       "      <td>21/11/1988</td>\n",
       "      <td>0.0</td>\n",
       "      <td>2012-01-18</td>\n",
       "      <td>40</td>\n",
       "      <td>312650</td>\n",
       "      <td>5</td>\n",
       "      <td>...</td>\n",
       "      <td>6</td>\n",
       "      <td>1</td>\n",
       "      <td>0</td>\n",
       "      <td>0</td>\n",
       "      <td>0</td>\n",
       "      <td>0</td>\n",
       "      <td>623</td>\n",
       "      <td>623</td>\n",
       "      <td>2</td>\n",
       "      <td>GAZ</td>\n",
       "    </tr>\n",
       "    <tr>\n",
       "      <th>2163374</th>\n",
       "      <td>60</td>\n",
       "      <td>train_Client_37069</td>\n",
       "      <td>11</td>\n",
       "      <td>101</td>\n",
       "      <td>09/03/1990</td>\n",
       "      <td>0.0</td>\n",
       "      <td>2010-10-11</td>\n",
       "      <td>11</td>\n",
       "      <td>5284</td>\n",
       "      <td>5</td>\n",
       "      <td>...</td>\n",
       "      <td>6</td>\n",
       "      <td>1</td>\n",
       "      <td>0</td>\n",
       "      <td>0</td>\n",
       "      <td>0</td>\n",
       "      <td>0</td>\n",
       "      <td>99429</td>\n",
       "      <td>99429</td>\n",
       "      <td>2</td>\n",
       "      <td>ELEC</td>\n",
       "    </tr>\n",
       "    <tr>\n",
       "      <th>2433919</th>\n",
       "      <td>60</td>\n",
       "      <td>train_Client_44407</td>\n",
       "      <td>11</td>\n",
       "      <td>101</td>\n",
       "      <td>15/06/1989</td>\n",
       "      <td>1.0</td>\n",
       "      <td>2008-02-28</td>\n",
       "      <td>11</td>\n",
       "      <td>66921</td>\n",
       "      <td>5</td>\n",
       "      <td>...</td>\n",
       "      <td>6</td>\n",
       "      <td>1</td>\n",
       "      <td>0</td>\n",
       "      <td>0</td>\n",
       "      <td>0</td>\n",
       "      <td>0</td>\n",
       "      <td>0</td>\n",
       "      <td>0</td>\n",
       "      <td>2</td>\n",
       "      <td>ELEC</td>\n",
       "    </tr>\n",
       "    <tr>\n",
       "      <th>2805729</th>\n",
       "      <td>60</td>\n",
       "      <td>train_Client_54609</td>\n",
       "      <td>11</td>\n",
       "      <td>101</td>\n",
       "      <td>16/02/1994</td>\n",
       "      <td>0.0</td>\n",
       "      <td>2010-04-06</td>\n",
       "      <td>11</td>\n",
       "      <td>200912</td>\n",
       "      <td>5</td>\n",
       "      <td>...</td>\n",
       "      <td>6</td>\n",
       "      <td>1</td>\n",
       "      <td>0</td>\n",
       "      <td>0</td>\n",
       "      <td>0</td>\n",
       "      <td>0</td>\n",
       "      <td>0</td>\n",
       "      <td>0</td>\n",
       "      <td>2</td>\n",
       "      <td>ELEC</td>\n",
       "    </tr>\n",
       "    <tr>\n",
       "      <th>3260191</th>\n",
       "      <td>63</td>\n",
       "      <td>train_Client_66981</td>\n",
       "      <td>51</td>\n",
       "      <td>313</td>\n",
       "      <td>20/11/1996</td>\n",
       "      <td>1.0</td>\n",
       "      <td>2006-07-17</td>\n",
       "      <td>11</td>\n",
       "      <td>132701</td>\n",
       "      <td>5</td>\n",
       "      <td>...</td>\n",
       "      <td>6</td>\n",
       "      <td>1</td>\n",
       "      <td>0</td>\n",
       "      <td>0</td>\n",
       "      <td>0</td>\n",
       "      <td>0</td>\n",
       "      <td>5946</td>\n",
       "      <td>5946</td>\n",
       "      <td>2</td>\n",
       "      <td>ELEC</td>\n",
       "    </tr>\n",
       "    <tr>\n",
       "      <th>3260198</th>\n",
       "      <td>63</td>\n",
       "      <td>train_Client_66981</td>\n",
       "      <td>51</td>\n",
       "      <td>313</td>\n",
       "      <td>20/11/1996</td>\n",
       "      <td>1.0</td>\n",
       "      <td>2006-07-17</td>\n",
       "      <td>11</td>\n",
       "      <td>132701</td>\n",
       "      <td>5</td>\n",
       "      <td>...</td>\n",
       "      <td>6</td>\n",
       "      <td>1</td>\n",
       "      <td>0</td>\n",
       "      <td>0</td>\n",
       "      <td>0</td>\n",
       "      <td>0</td>\n",
       "      <td>5946</td>\n",
       "      <td>5946</td>\n",
       "      <td>2</td>\n",
       "      <td>ELEC</td>\n",
       "    </tr>\n",
       "    <tr>\n",
       "      <th>3394719</th>\n",
       "      <td>62</td>\n",
       "      <td>train_Client_7066</td>\n",
       "      <td>11</td>\n",
       "      <td>304</td>\n",
       "      <td>12/04/2013</td>\n",
       "      <td>0.0</td>\n",
       "      <td>2014-10-28</td>\n",
       "      <td>40</td>\n",
       "      <td>4463323</td>\n",
       "      <td>5</td>\n",
       "      <td>...</td>\n",
       "      <td>6</td>\n",
       "      <td>1</td>\n",
       "      <td>0</td>\n",
       "      <td>0</td>\n",
       "      <td>0</td>\n",
       "      <td>0</td>\n",
       "      <td>80</td>\n",
       "      <td>80</td>\n",
       "      <td>2</td>\n",
       "      <td>GAZ</td>\n",
       "    </tr>\n",
       "    <tr>\n",
       "      <th>3462929</th>\n",
       "      <td>60</td>\n",
       "      <td>train_Client_72519</td>\n",
       "      <td>11</td>\n",
       "      <td>101</td>\n",
       "      <td>03/06/1982</td>\n",
       "      <td>0.0</td>\n",
       "      <td>2013-01-21</td>\n",
       "      <td>11</td>\n",
       "      <td>246464</td>\n",
       "      <td>5</td>\n",
       "      <td>...</td>\n",
       "      <td>6</td>\n",
       "      <td>1</td>\n",
       "      <td>0</td>\n",
       "      <td>0</td>\n",
       "      <td>0</td>\n",
       "      <td>0</td>\n",
       "      <td>2954</td>\n",
       "      <td>2954</td>\n",
       "      <td>2</td>\n",
       "      <td>ELEC</td>\n",
       "    </tr>\n",
       "    <tr>\n",
       "      <th>3628821</th>\n",
       "      <td>63</td>\n",
       "      <td>train_Client_77029</td>\n",
       "      <td>51</td>\n",
       "      <td>312</td>\n",
       "      <td>27/02/2010</td>\n",
       "      <td>0.0</td>\n",
       "      <td>2012-12-28</td>\n",
       "      <td>11</td>\n",
       "      <td>540417</td>\n",
       "      <td>5</td>\n",
       "      <td>...</td>\n",
       "      <td>6</td>\n",
       "      <td>1</td>\n",
       "      <td>0</td>\n",
       "      <td>0</td>\n",
       "      <td>0</td>\n",
       "      <td>0</td>\n",
       "      <td>26429</td>\n",
       "      <td>26429</td>\n",
       "      <td>2</td>\n",
       "      <td>ELEC</td>\n",
       "    </tr>\n",
       "  </tbody>\n",
       "</table>\n",
       "<p>11 rows × 21 columns</p>\n",
       "</div>"
      ],
      "text/plain": [
       "         disrict            client_id  client_catg  region creation_date  \\\n",
       "951893        60  train_Client_125864           11     101    29/12/1998   \n",
       "1755798       62   train_Client_25894           11     301    16/06/1995   \n",
       "2137999       60    train_Client_3636           11     101    21/11/1988   \n",
       "2163374       60   train_Client_37069           11     101    09/03/1990   \n",
       "2433919       60   train_Client_44407           11     101    15/06/1989   \n",
       "2805729       60   train_Client_54609           11     101    16/02/1994   \n",
       "3260191       63   train_Client_66981           51     313    20/11/1996   \n",
       "3260198       63   train_Client_66981           51     313    20/11/1996   \n",
       "3394719       62    train_Client_7066           11     304    12/04/2013   \n",
       "3462929       60   train_Client_72519           11     101    03/06/1982   \n",
       "3628821       63   train_Client_77029           51     312    27/02/2010   \n",
       "\n",
       "         target invoice_date  tarif_type  counter_number counter_statue  ...  \\\n",
       "951893      0.0   2011-12-12          11          101545              5  ...   \n",
       "1755798     0.0   2010-07-13          40         6986740              5  ...   \n",
       "2137999     0.0   2012-01-18          40          312650              5  ...   \n",
       "2163374     0.0   2010-10-11          11            5284              5  ...   \n",
       "2433919     1.0   2008-02-28          11           66921              5  ...   \n",
       "2805729     0.0   2010-04-06          11          200912              5  ...   \n",
       "3260191     1.0   2006-07-17          11          132701              5  ...   \n",
       "3260198     1.0   2006-07-17          11          132701              5  ...   \n",
       "3394719     0.0   2014-10-28          40         4463323              5  ...   \n",
       "3462929     0.0   2013-01-21          11          246464              5  ...   \n",
       "3628821     0.0   2012-12-28          11          540417              5  ...   \n",
       "\n",
       "         reading_remarque  counter_coefficient  consommation_level_1  \\\n",
       "951893                  6                    1                     0   \n",
       "1755798                 6                    1                     0   \n",
       "2137999                 6                    1                     0   \n",
       "2163374                 6                    1                     0   \n",
       "2433919                 6                    1                     0   \n",
       "2805729                 6                    1                     0   \n",
       "3260191                 6                    1                     0   \n",
       "3260198                 6                    1                     0   \n",
       "3394719                 6                    1                     0   \n",
       "3462929                 6                    1                     0   \n",
       "3628821                 6                    1                     0   \n",
       "\n",
       "         consommation_level_2  consommation_level_3  consommation_level_4  \\\n",
       "951893                      0                     0                     0   \n",
       "1755798                     0                     0                     0   \n",
       "2137999                     0                     0                     0   \n",
       "2163374                     0                     0                     0   \n",
       "2433919                     0                     0                     0   \n",
       "2805729                     0                     0                     0   \n",
       "3260191                     0                     0                     0   \n",
       "3260198                     0                     0                     0   \n",
       "3394719                     0                     0                     0   \n",
       "3462929                     0                     0                     0   \n",
       "3628821                     0                     0                     0   \n",
       "\n",
       "         old_index  new_index  months_number  counter_type  \n",
       "951893       13680      13680              2          ELEC  \n",
       "1755798          0          0              2           GAZ  \n",
       "2137999        623        623              2           GAZ  \n",
       "2163374      99429      99429              2          ELEC  \n",
       "2433919          0          0              2          ELEC  \n",
       "2805729          0          0              2          ELEC  \n",
       "3260191       5946       5946              2          ELEC  \n",
       "3260198       5946       5946              2          ELEC  \n",
       "3394719         80         80              2           GAZ  \n",
       "3462929       2954       2954              2          ELEC  \n",
       "3628821      26429      26429              2          ELEC  \n",
       "\n",
       "[11 rows x 21 columns]"
      ]
     },
     "execution_count": 35,
     "metadata": {},
     "output_type": "execute_result"
    }
   ],
   "source": [
    "#checking for duplicate data\n",
    "train[train.duplicated()]"
   ]
  },
  {
   "cell_type": "code",
   "execution_count": 36,
   "id": "1e54cd10",
   "metadata": {},
   "outputs": [],
   "source": [
    "train=train.drop_duplicates()"
   ]
  },
  {
   "cell_type": "code",
   "execution_count": 37,
   "id": "10046ab5",
   "metadata": {},
   "outputs": [],
   "source": [
    "#converting to datetime\n",
    "train['creation_date']=pd.to_datetime(train['creation_date'])\n",
    "train['invoice_date']=pd.to_datetime(train['invoice_date'])"
   ]
  },
  {
   "cell_type": "code",
   "execution_count": 38,
   "id": "b29d19b5",
   "metadata": {},
   "outputs": [],
   "source": [
    "#dropping low cardinality data\n",
    "train.drop(['client_id','creation_date','invoice_date'],axis=1,inplace=True)"
   ]
  },
  {
   "cell_type": "code",
   "execution_count": 39,
   "id": "fdfa1c12",
   "metadata": {},
   "outputs": [
    {
     "data": {
      "image/png": "[encoded data removed]",
      "text/plain": [
       "<Figure size 432x288 with 1 Axes>"
      ]
     },
     "metadata": {
      "needs_background": "light"
     },
     "output_type": "display_data"
    },
    {
     "data": {
      "image/png": "[encoded data removed]",
      "text/plain": [
       "<Figure size 432x288 with 1 Axes>"
      ]
     },
     "metadata": {
      "needs_background": "light"
     },
     "output_type": "display_data"
    },
    {
     "data": {
      "image/png": "[encoded data removed]",
      "text/plain": [
       "<Figure size 432x288 with 1 Axes>"
      ]
     },
     "metadata": {
      "needs_background": "light"
     },
     "output_type": "display_data"
    },
    {
     "data": {
      "image/png": "[encoded data removed]",
      "text/plain": [
       "<Figure size 432x288 with 1 Axes>"
      ]
     },
     "metadata": {
      "needs_background": "light"
     },
     "output_type": "display_data"
    },
    {
     "data": {
      "image/png": "[encoded data removed]",
      "text/plain": [
       "<Figure size 432x288 with 1 Axes>"
      ]
     },
     "metadata": {
      "needs_background": "light"
     },
     "output_type": "display_data"
    },
    {
     "data": {
      "image/png": "[encoded data removed]",
      "text/plain": [
       "<Figure size 432x288 with 1 Axes>"
      ]
     },
     "metadata": {
      "needs_background": "light"
     },
     "output_type": "display_data"
    },
    {
     "data": {
      "image/png": "[encoded data removed]",
      "text/plain": [
       "<Figure size 432x288 with 1 Axes>"
      ]
     },
     "metadata": {
      "needs_background": "light"
     },
     "output_type": "display_data"
    },
    {
     "data": {
      "image/png": "[encoded data removed]",
      "text/plain": [
       "<Figure size 432x288 with 1 Axes>"
      ]
     },
     "metadata": {
      "needs_background": "light"
     },
     "output_type": "display_data"
    },
    {
     "data": {
      "image/png": "[encoded data removed]",
      "text/plain": [
       "<Figure size 432x288 with 1 Axes>"
      ]
     },
     "metadata": {
      "needs_background": "light"
     },
     "output_type": "display_data"
    },
    {
     "data": {
      "image/png": "[encoded data removed]",
      "text/plain": [
       "<Figure size 432x288 with 1 Axes>"
      ]
     },
     "metadata": {
      "needs_background": "light"
     },
     "output_type": "display_data"
    },
    {
     "data": {
      "image/png": "[encoded data removed]",
      "text/plain": [
       "<Figure size 432x288 with 1 Axes>"
      ]
     },
     "metadata": {
      "needs_background": "light"
     },
     "output_type": "display_data"
    },
    {
     "data": {
      "image/png": "[encoded data removed]",
      "text/plain": [
       "<Figure size 432x288 with 1 Axes>"
      ]
     },
     "metadata": {
      "needs_background": "light"
     },
     "output_type": "display_data"
    },
    {
     "data": {
      "image/png": "[encoded data removed]",
      "text/plain": [
       "<Figure size 432x288 with 1 Axes>"
      ]
     },
     "metadata": {
      "needs_background": "light"
     },
     "output_type": "display_data"
    },
    {
     "data": {
      "image/png": "[encoded data removed]",
      "text/plain": [
       "<Figure size 432x288 with 1 Axes>"
      ]
     },
     "metadata": {
      "needs_background": "light"
     },
     "output_type": "display_data"
    },
    {
     "data": {
      "image/png": "[encoded data removed]",
      "text/plain": [
       "<Figure size 432x288 with 1 Axes>"
      ]
     },
     "metadata": {
      "needs_background": "light"
     },
     "output_type": "display_data"
    },
    {
     "data": {
      "image/png": "[encoded data removed]",
      "text/plain": [
       "<Figure size 432x288 with 1 Axes>"
      ]
     },
     "metadata": {
      "needs_background": "light"
     },
     "output_type": "display_data"
    }
   ],
   "source": [
    "#checking for outliers\n",
    "for i in train.select_dtypes(include='number'):\n",
    "    plt.figure()\n",
    "    sns.boxplot(train[i])\n",
    "    plt.title(i)"
   ]
  },
  {
   "cell_type": "code",
   "execution_count": 40,
   "id": "65ff1e0b",
   "metadata": {},
   "outputs": [],
   "source": [
    "#checking for rows with empty strings\n",
    "def check_for_empty_strings(data,col):\n",
    "    '''checking for rows with empty strings'''\n",
    "    result=data.loc[np.where(data[col].apply(lambda x:x==' '))]\n",
    "    return result"
   ]
  },
  {
   "cell_type": "code",
   "execution_count": 41,
   "id": "bc7fd6c8",
   "metadata": {},
   "outputs": [
    {
     "name": "stdout",
     "output_type": "stream",
     "text": [
      "----------------\n",
      " Empty DataFrame\n",
      "Columns: [disrict, client_catg, region, target, tarif_type, counter_number, counter_statue, counter_code, reading_remarque, counter_coefficient, consommation_level_1, consommation_level_2, consommation_level_3, consommation_level_4, old_index, new_index, months_number, counter_type]\n",
      "Index: []\n",
      "----------------\n",
      " Empty DataFrame\n",
      "Columns: [disrict, client_catg, region, target, tarif_type, counter_number, counter_statue, counter_code, reading_remarque, counter_coefficient, consommation_level_1, consommation_level_2, consommation_level_3, consommation_level_4, old_index, new_index, months_number, counter_type]\n",
      "Index: []\n",
      "----------------\n",
      " Empty DataFrame\n",
      "Columns: [disrict, client_catg, region, target, tarif_type, counter_number, counter_statue, counter_code, reading_remarque, counter_coefficient, consommation_level_1, consommation_level_2, consommation_level_3, consommation_level_4, old_index, new_index, months_number, counter_type]\n",
      "Index: []\n",
      "----------------\n",
      " Empty DataFrame\n",
      "Columns: [disrict, client_catg, region, target, tarif_type, counter_number, counter_statue, counter_code, reading_remarque, counter_coefficient, consommation_level_1, consommation_level_2, consommation_level_3, consommation_level_4, old_index, new_index, months_number, counter_type]\n",
      "Index: []\n",
      "----------------\n",
      " Empty DataFrame\n",
      "Columns: [disrict, client_catg, region, target, tarif_type, counter_number, counter_statue, counter_code, reading_remarque, counter_coefficient, consommation_level_1, consommation_level_2, consommation_level_3, consommation_level_4, old_index, new_index, months_number, counter_type]\n",
      "Index: []\n",
      "----------------\n",
      " Empty DataFrame\n",
      "Columns: [disrict, client_catg, region, target, tarif_type, counter_number, counter_statue, counter_code, reading_remarque, counter_coefficient, consommation_level_1, consommation_level_2, consommation_level_3, consommation_level_4, old_index, new_index, months_number, counter_type]\n",
      "Index: []\n",
      "----------------\n",
      " Empty DataFrame\n",
      "Columns: [disrict, client_catg, region, target, tarif_type, counter_number, counter_statue, counter_code, reading_remarque, counter_coefficient, consommation_level_1, consommation_level_2, consommation_level_3, consommation_level_4, old_index, new_index, months_number, counter_type]\n",
      "Index: []\n",
      "----------------\n",
      " Empty DataFrame\n",
      "Columns: [disrict, client_catg, region, target, tarif_type, counter_number, counter_statue, counter_code, reading_remarque, counter_coefficient, consommation_level_1, consommation_level_2, consommation_level_3, consommation_level_4, old_index, new_index, months_number, counter_type]\n",
      "Index: []\n",
      "----------------\n",
      " Empty DataFrame\n",
      "Columns: [disrict, client_catg, region, target, tarif_type, counter_number, counter_statue, counter_code, reading_remarque, counter_coefficient, consommation_level_1, consommation_level_2, consommation_level_3, consommation_level_4, old_index, new_index, months_number, counter_type]\n",
      "Index: []\n",
      "----------------\n",
      " Empty DataFrame\n",
      "Columns: [disrict, client_catg, region, target, tarif_type, counter_number, counter_statue, counter_code, reading_remarque, counter_coefficient, consommation_level_1, consommation_level_2, consommation_level_3, consommation_level_4, old_index, new_index, months_number, counter_type]\n",
      "Index: []\n",
      "----------------\n",
      " Empty DataFrame\n",
      "Columns: [disrict, client_catg, region, target, tarif_type, counter_number, counter_statue, counter_code, reading_remarque, counter_coefficient, consommation_level_1, consommation_level_2, consommation_level_3, consommation_level_4, old_index, new_index, months_number, counter_type]\n",
      "Index: []\n",
      "----------------\n",
      " Empty DataFrame\n",
      "Columns: [disrict, client_catg, region, target, tarif_type, counter_number, counter_statue, counter_code, reading_remarque, counter_coefficient, consommation_level_1, consommation_level_2, consommation_level_3, consommation_level_4, old_index, new_index, months_number, counter_type]\n",
      "Index: []\n",
      "----------------\n",
      " Empty DataFrame\n",
      "Columns: [disrict, client_catg, region, target, tarif_type, counter_number, counter_statue, counter_code, reading_remarque, counter_coefficient, consommation_level_1, consommation_level_2, consommation_level_3, consommation_level_4, old_index, new_index, months_number, counter_type]\n",
      "Index: []\n",
      "----------------\n",
      " Empty DataFrame\n",
      "Columns: [disrict, client_catg, region, target, tarif_type, counter_number, counter_statue, counter_code, reading_remarque, counter_coefficient, consommation_level_1, consommation_level_2, consommation_level_3, consommation_level_4, old_index, new_index, months_number, counter_type]\n",
      "Index: []\n",
      "----------------\n",
      " Empty DataFrame\n",
      "Columns: [disrict, client_catg, region, target, tarif_type, counter_number, counter_statue, counter_code, reading_remarque, counter_coefficient, consommation_level_1, consommation_level_2, consommation_level_3, consommation_level_4, old_index, new_index, months_number, counter_type]\n",
      "Index: []\n",
      "----------------\n",
      " Empty DataFrame\n",
      "Columns: [disrict, client_catg, region, target, tarif_type, counter_number, counter_statue, counter_code, reading_remarque, counter_coefficient, consommation_level_1, consommation_level_2, consommation_level_3, consommation_level_4, old_index, new_index, months_number, counter_type]\n",
      "Index: []\n",
      "----------------\n",
      " Empty DataFrame\n",
      "Columns: [disrict, client_catg, region, target, tarif_type, counter_number, counter_statue, counter_code, reading_remarque, counter_coefficient, consommation_level_1, consommation_level_2, consommation_level_3, consommation_level_4, old_index, new_index, months_number, counter_type]\n",
      "Index: []\n",
      "----------------\n",
      " Empty DataFrame\n",
      "Columns: [disrict, client_catg, region, target, tarif_type, counter_number, counter_statue, counter_code, reading_remarque, counter_coefficient, consommation_level_1, consommation_level_2, consommation_level_3, consommation_level_4, old_index, new_index, months_number, counter_type]\n",
      "Index: []\n"
     ]
    }
   ],
   "source": [
    "for i in train.columns:\n",
    "    p= check_for_empty_strings(train,i)\n",
    "    print('----------------\\n',p)\n"
   ]
  },
  {
   "cell_type": "code",
   "execution_count": 42,
   "id": "d22eed2f",
   "metadata": {},
   "outputs": [
    {
     "data": {
      "text/plain": [
       "<AxesSubplot:xlabel='target'>"
      ]
     },
     "execution_count": 42,
     "metadata": {},
     "output_type": "execute_result"
    },
    {
     "data": {
      "image/png": "[encoded data removed]",
      "text/plain": [
       "<Figure size 432x288 with 1 Axes>"
      ]
     },
     "metadata": {
      "needs_background": "light"
     },
     "output_type": "display_data"
    }
   ],
   "source": [
    "pd.crosstab(train['target'],'Count').plot(kind='bar')\n"
   ]
  },
  {
   "cell_type": "code",
   "execution_count": 43,
   "id": "cda05653",
   "metadata": {},
   "outputs": [
    {
     "data": {
      "text/plain": [
       "0.0    4123629\n",
       "1.0     353109\n",
       "Name: target, dtype: int64"
      ]
     },
     "execution_count": 43,
     "metadata": {},
     "output_type": "execute_result"
    }
   ],
   "source": [
    "train['target'].value_counts()\n",
    "#our target classes are very unbalanced"
   ]
  },
  {
   "cell_type": "code",
   "execution_count": 44,
   "id": "1fbc7ccc",
   "metadata": {},
   "outputs": [],
   "source": [
    "#encoding\n",
    "cmap={'ELEC':0,'GAZ':1}\n",
    "train['counter_type']=train['counter_type'].map(cmap)"
   ]
  },
  {
   "cell_type": "code",
   "execution_count": 45,
   "id": "bd99e88d",
   "metadata": {},
   "outputs": [],
   "source": [
    "to_drop=train.loc[train['counter_statue']=='A'].index"
   ]
  },
  {
   "cell_type": "code",
   "execution_count": 46,
   "id": "ea075bbd",
   "metadata": {},
   "outputs": [],
   "source": [
    "train.drop(to_drop,axis=0,inplace=True)"
   ]
  },
  {
   "cell_type": "code",
   "execution_count": 47,
   "id": "1148c79f",
   "metadata": {},
   "outputs": [],
   "source": [
    "train['counter_statue']=train['counter_statue'].astype(float)"
   ]
  },
  {
   "cell_type": "code",
   "execution_count": 48,
   "id": "88aa4038",
   "metadata": {},
   "outputs": [],
   "source": [
    "#modelling\n",
    "xtrain=train.drop(['target'],axis=1)\n",
    "ytrain=train['target']"
   ]
  },
  {
   "cell_type": "code",
   "execution_count": 49,
   "id": "b80b03e8",
   "metadata": {},
   "outputs": [
    {
     "data": {
      "text/plain": [
       "disrict                   int64\n",
       "client_catg               int64\n",
       "region                    int64\n",
       "tarif_type                int64\n",
       "counter_number            int64\n",
       "counter_statue          float64\n",
       "counter_code              int64\n",
       "reading_remarque          int64\n",
       "counter_coefficient       int64\n",
       "consommation_level_1      int64\n",
       "consommation_level_2      int64\n",
       "consommation_level_3      int64\n",
       "consommation_level_4      int64\n",
       "old_index                 int64\n",
       "new_index                 int64\n",
       "months_number             int64\n",
       "counter_type              int64\n",
       "dtype: object"
      ]
     },
     "execution_count": 49,
     "metadata": {},
     "output_type": "execute_result"
    }
   ],
   "source": [
    "xtrain.dtypes\n"
   ]
  },
  {
   "cell_type": "markdown",
   "id": "2c230081",
   "metadata": {},
   "source": [
    "### Cleaning test data"
   ]
  },
  {
   "cell_type": "code",
   "execution_count": 50,
   "id": "baec6cc5",
   "metadata": {},
   "outputs": [],
   "source": [
    "test=client_test.merge(invoice_test,on='client_id')\n",
    "test=test.drop_duplicates()\n",
    "#dropping low cardinality data\n",
    "test.drop(['client_id','creation_date','invoice_date'],axis=1,inplace=True)\n",
    "#encoding\n",
    "cmap={'ELEC':0,'GAZ':1}\n",
    "test['counter_type']=test['counter_type'].map(cmap)\n",
    "to_drop=test.loc[test['counter_statue']=='A'].index\n",
    "test.drop(to_drop,axis=0,inplace=True)\n",
    "test['counter_statue']=test['counter_statue'].astype(float)"
   ]
  },
  {
   "cell_type": "code",
   "execution_count": 51,
   "id": "c85567dc",
   "metadata": {},
   "outputs": [],
   "source": [
    "#saving cleaned datasets"
   ]
  },
  {
   "cell_type": "code",
   "execution_count": 52,
   "id": "0d120a97",
   "metadata": {},
   "outputs": [],
   "source": [
    "test.to_csv(\"/Users/USER/Documents/DATASETS/Zindi/electricity_fraud_detection/cleaned_client_test.csv\",index=False)\n",
    "train.to_csv(\"/Users/USER/Documents/DATASETS/Zindi/electricity_fraud_detection/cleaned_client_train.csv\",index=False)\n"
   ]
  }
 ],
 "metadata": {
  "kernelspec": {
   "display_name": "Python 3",
   "language": "python",
   "name": "python3"
  },
  "language_info": {
   "codemirror_mode": {
    "name": "ipython",
    "version": 3
   },
   "file_extension": ".py",
   "mimetype": "text/x-python",
   "name": "python",
   "nbconvert_exporter": "python",
   "pygments_lexer": "ipython3",
   "version": "3.8.8"
  }
 },
 "nbformat": 4,
 "nbformat_minor": 5
}
